{
  "nbformat": 4,
  "nbformat_minor": 0,
  "metadata": {
    "colab": {
      "name": "OCRMnisttutorial.ipynb",
      "provenance": [],
      "private_outputs": true,
      "collapsed_sections": [],
      "authorship_tag": "ABX9TyO078TUZ/zO/w8CdKE6u6/t",
      "include_colab_link": true
    },
    "kernelspec": {
      "name": "python3",
      "display_name": "Python 3"
    },
    "accelerator": "GPU"
  },
  "cells": [
    {
      "cell_type": "markdown",
      "metadata": {
        "id": "view-in-github",
        "colab_type": "text"
      },
      "source": [
        "<a href=\"https://colab.research.google.com/github/AdamHillingerSzekely/OCRPractice/blob/master/OCRMnisttutorial.ipynb\" target=\"_parent\"><img src=\"https://colab.research.google.com/assets/colab-badge.svg\" alt=\"Open In Colab\"/></a>"
      ]
    },
    {
      "cell_type": "code",
      "metadata": {
        "id": "Bvp7-ciIoghT",
        "colab_type": "code",
        "colab": {}
      },
      "source": [
        "# Description: This progam classifies the MNIST handwritten digit images\n",
        "# as a number 0 - 9\n",
        "\n",
        "!pip install tensorflow keras numpy mnist matplotlib"
      ],
      "execution_count": null,
      "outputs": []
    },
    {
      "cell_type": "code",
      "metadata": {
        "id": "xZvrhs-RpN2E",
        "colab_type": "code",
        "colab": {}
      },
      "source": [
        "#Import the packages / dependencies\n",
        "import numpy as np\n",
        "import mnist #Data Set\n",
        "import matplotlib.pyplot as plt #Graph\n",
        "from keras.models import Sequential #ANN architecture\n",
        "from keras.layers import Dense #The layers in the ANN \n",
        "from keras.utils import to_categorical"
      ],
      "execution_count": null,
      "outputs": []
    },
    {
      "cell_type": "code",
      "metadata": {
        "id": "hLK8XRtAqD9w",
        "colab_type": "code",
        "colab": {}
      },
      "source": [
        "#load the data set\n",
        "train_images = mnist.train_images() #training data images\n",
        "train_labels= mnist.train_labels() #training data labels\n",
        "test_images = mnist.test_images() #training data images\n",
        "test_labels = mnist.test_labels()  #training data labels"
      ],
      "execution_count": null,
      "outputs": []
    },
    {
      "cell_type": "code",
      "metadata": {
        "id": "FumQEb0ywcNK",
        "colab_type": "code",
        "colab": {}
      },
      "source": [
        "#Normalize the images,  Normalize the pixel values from [0, 255] tp \n",
        "# [-0.5 , 0.5] to make our network easier to train\n",
        "train_images = (train_images/255) - 0.5\n",
        "test_images = (test_images/255) - 0.5\n",
        "#Flatten the images. Flatten each 28x28 image into a 28^2 = 784 dimensional vector to pass into a neural network\n",
        "train_images = train_images.reshape((-1,784))\n",
        "test_images = test_images.reshape((-1,784))\n",
        "#Print the shape\n",
        "print(train_images.shape)\n",
        "print(test_images.shape)"
      ],
      "execution_count": null,
      "outputs": []
    },
    {
      "cell_type": "code",
      "metadata": {
        "id": "zQ47dugG0Hap",
        "colab_type": "code",
        "colab": {}
      },
      "source": [
        "#Build the model \n",
        "# 3 layers, 2 layers with 64 neurons and the relu function\n",
        "# 1 year with 10 neuron and softmax funtion\n",
        "model = Sequential()\n",
        "model.add( Dense(64, activation='relu', input_dim=784))\n",
        "model.add( Dense(64, activation='relu'))\n",
        "model.add( Dense(10, activation='softmax'))\n"
      ],
      "execution_count": null,
      "outputs": []
    },
    {
      "cell_type": "code",
      "metadata": {
        "id": "V9k5dxdv1sV3",
        "colab_type": "code",
        "colab": {}
      },
      "source": [
        "#Compile the model \n",
        "#The loss function measures how well the model did on training, and then tries to improve on it using the optimizer\n",
        "#to improve on it using the optimizer\n",
        "model.compile( \n",
        " optimizer='adam', \n",
        "    loss = 'categorical_crossentropy', #(classes that are greater than 2)\n",
        "    metrics = ['accuracy']\n",
        ")"
      ],
      "execution_count": null,
      "outputs": []
    },
    {
      "cell_type": "code",
      "metadata": {
        "id": "T9O3ZX2E20J-",
        "colab_type": "code",
        "colab": {}
      },
      "source": [
        "#Train the model \n",
        "model.fit(\n",
        "    train_images,\n",
        "      to_categorical(train_labels), # Ex. 2 it expects [0, 0, 1, 0, 0, 0, 0, 0, 0, 0]\n",
        "      epochs = 6, #The number iterations over the entire dataset to train on\n",
        "      batch_size=32, #the number of samples per gradient update training\n",
        ")"
      ],
      "execution_count": null,
      "outputs": []
    },
    {
      "cell_type": "code",
      "metadata": {
        "id": "uaC4XVRNHA-p",
        "colab_type": "code",
        "colab": {}
      },
      "source": [
        "model.evaluate(\n",
        "    test_images,\n",
        "    to_categorical(test_labels)\n",
        ")"
      ],
      "execution_count": null,
      "outputs": []
    },
    {
      "cell_type": "code",
      "metadata": {
        "id": "nHaN2rhCIKPm",
        "colab_type": "code",
        "colab": {}
      },
      "source": [
        "predictions = model.predict(test_images[:5])\n",
        "print(np.argmax(predictions, axis =1))\n",
        "print(test_labels[:5])"
      ],
      "execution_count": null,
      "outputs": []
    },
    {
      "cell_type": "code",
      "metadata": {
        "id": "qSz13sBmIlhc",
        "colab_type": "code",
        "colab": {}
      },
      "source": [
        "for i in range(0,5):\n",
        "  first_image = test_images[i]\n",
        "  first_image = np.array(first_image, dtype='float')\n",
        "  pixels = first_image.reshape((28,28))\n",
        "  plt.imshow(pixels, cmap= 'gray')\n",
        "  plt.show()"
      ],
      "execution_count": null,
      "outputs": []
    }
  ]
}